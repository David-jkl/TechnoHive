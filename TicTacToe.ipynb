{
  "nbformat": 4,
  "nbformat_minor": 0,
  "metadata": {
    "colab": {
      "provenance": [],
      "authorship_tag": "ABX9TyNyqdYOkbNvptk4eIl5pKwf",
      "include_colab_link": true
    },
    "kernelspec": {
      "name": "python3",
      "display_name": "Python 3"
    },
    "language_info": {
      "name": "python"
    }
  },
  "cells": [
    {
      "cell_type": "markdown",
      "metadata": {
        "id": "view-in-github",
        "colab_type": "text"
      },
      "source": [
        "<a href=\"https://colab.research.google.com/github/David-jkl/TechnoHive/blob/main/TicTacToe.ipynb\" target=\"_parent\"><img src=\"https://colab.research.google.com/assets/colab-badge.svg\" alt=\"Open In Colab\"/></a>"
      ]
    },
    {
      "cell_type": "code",
      "execution_count": null,
      "metadata": {
        "colab": {
          "base_uri": "https://localhost:8080/"
        },
        "id": "bk5v7E5fhvX4",
        "outputId": "d175ca86-b582-47dc-fc98-3e3c7d2b823c"
      },
      "outputs": [
        {
          "output_type": "stream",
          "name": "stdout",
          "text": [
            "  1 2 3\n",
            " -------\n",
            "1| | | |\n",
            " -------\n",
            "2| | | |\n",
            " -------\n",
            "3| | | |\n",
            " -------\n",
            "X's turn. Enter row,col (e.g. 1,2): 2,2\n",
            "  1 2 3\n",
            " -------\n",
            "1| | | |\n",
            " -------\n",
            "2| |X| |\n",
            " -------\n",
            "3| | | |\n",
            " -------\n",
            "O's turn. Enter row,col (e.g. 1,2): 1,2\n",
            "  1 2 3\n",
            " -------\n",
            "1| |O| |\n",
            " -------\n",
            "2| |X| |\n",
            " -------\n",
            "3| | | |\n",
            " -------\n",
            "X's turn. Enter row,col (e.g. 1,2): 2,1\n",
            "  1 2 3\n",
            " -------\n",
            "1| |O| |\n",
            " -------\n",
            "2|X|X| |\n",
            " -------\n",
            "3| | | |\n",
            " -------\n",
            "O's turn. Enter row,col (e.g. 1,2): 1,1\n",
            "  1 2 3\n",
            " -------\n",
            "1|O|O| |\n",
            " -------\n",
            "2|X|X| |\n",
            " -------\n",
            "3| | | |\n",
            " -------\n",
            "X's turn. Enter row,col (e.g. 1,2): 2,3\n",
            "Congratulations, X wins!\n"
          ]
        }
      ],
      "source": [
        "# Initialize the TTT board\n",
        "board = [\n",
        "    [' ', ' ', ' '],\n",
        "    [' ', ' ', ' '],\n",
        "    [' ', ' ', ' ']\n",
        "]\n",
        "\n",
        "# player symbols\n",
        "player1_symbol = 'X'\n",
        "player2_symbol = 'O'\n",
        "\n",
        "# Set the starting player\n",
        "current_player = player1_symbol\n",
        "\n",
        "# Define the game loop\n",
        "while True:\n",
        "    # Display the current state of the board\n",
        "    print('  1 2 3')\n",
        "    print(' -------')\n",
        "    for i in range(3):\n",
        "        print(f'{i+1}|{board[i][0]}|{board[i][1]}|{board[i][2]}|')\n",
        "        print(' -------')\n",
        "\n",
        "    # Get the current player's move\n",
        "    while True:\n",
        "        move = input(f'{current_player}\\'s turn. Enter row,col (e.g. 1,2): ')\n",
        "        try:\n",
        "            row, col = [int(x) for x in move.split(',')]\n",
        "            if row < 1 or row > 3 or col < 1 or col > 3:\n",
        "                raise ValueError\n",
        "            if board[row-1][col-1] != ' ':\n",
        "                print('That spot is already taken. Try again.')\n",
        "            else:\n",
        "                break\n",
        "        except ValueError:\n",
        "            print('Invalid input. Try again.')\n",
        "\n",
        "    # Update the board with the current player's move\n",
        "    board[row-1][col-1] = current_player\n",
        "\n",
        "    # Check for a win or tie\n",
        "    winner = None\n",
        "    for i in range(3):\n",
        "        # Check rows\n",
        "        if board[i][0] == board[i][1] == board[i][2] != ' ':\n",
        "            winner = board[i][0]\n",
        "            break\n",
        "        # Check columns\n",
        "        elif board[0][i] == board[1][i] == board[2][i] != ' ':\n",
        "            winner = board[0][i]\n",
        "            break\n",
        "    # Check diagonals\n",
        "    if board[0][0] == board[1][1] == board[2][2] != ' ':\n",
        "        winner = board[0][0]\n",
        "    elif board[0][2] == board[1][1] == board[2][0] != ' ':\n",
        "        winner = board[0][2]\n",
        "    if winner:\n",
        "        print(f'Congratulations, {winner} wins!')\n",
        "        break\n",
        "    elif all([spot != ' ' for row in board for spot in row]):\n",
        "        print('It\\'s a tie!')\n",
        "        break\n",
        "\n",
        "    # Switch to the other player\n",
        "    if current_player == player1_symbol:\n",
        "        current_player = player2_symbol\n",
        "    else:\n",
        "        current_player = player1_symbol\n"
      ]
    }
  ]
}